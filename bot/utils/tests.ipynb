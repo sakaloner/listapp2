{
 "cells": [
  {
   "cell_type": "code",
   "execution_count": 58,
   "metadata": {},
   "outputs": [],
   "source": [
    "import time\n",
    "\n",
    "def get_msg(file_path, token='End of the file', poll_interval=1):\n",
    "    \"\"\"Reads a file until it finds the specified token and returns the message.\"\"\"\n",
    "    # Wait until the file has some contents and the token is found\n",
    "    while True:\n",
    "        try:\n",
    "            with open(file_path, 'r') as f:\n",
    "                contents = f.read()\n",
    "                if contents and token in contents:\n",
    "                    print('file not empty and has final content')\n",
    "                    break\n",
    "        except FileNotFoundError:\n",
    "            raise\n",
    "\n",
    "        time.sleep(poll_interval)\n",
    "\n",
    "    # Read the contents of the file until the token is found\n",
    "    message = ''\n",
    "    last_line = -1\n",
    "    with open(file_path, 'r+') as f:\n",
    "        for i,line in enumerate(f):\n",
    "            if token in line:\n",
    "                last_line = i\n",
    "                break\n",
    "            message += line\n",
    "        f.truncate(0)\n",
    "    \n",
    "    print('copied the contents')\n",
    "\n",
    "    return message"
   ]
  },
  {
   "cell_type": "code",
   "execution_count": 59,
   "metadata": {},
   "outputs": [
    {
     "name": "stdout",
     "output_type": "stream",
     "text": [
      "file not empty and has final content\n",
      "copied the contents\n"
     ]
    },
    {
     "data": {
      "text/plain": [
       "'asdfasdf\\nasdfasdffas\\ndefasdfasd\\n'"
      ]
     },
     "execution_count": 59,
     "metadata": {},
     "output_type": "execute_result"
    }
   ],
   "source": [
    "read_file_until_token('../coms/test.txt')\n"
   ]
  },
  {
   "cell_type": "code",
   "execution_count": null,
   "metadata": {},
   "outputs": [],
   "source": []
  },
  {
   "cell_type": "code",
   "execution_count": null,
   "metadata": {},
   "outputs": [],
   "source": [
    "#!/usr/bin/python\n",
    "\n",
    "# Open a file\n",
    "fo = open(\"../coms/test.txt\", \"rw+\")\n",
    "print (\"Name of the file: \", fo.name)\n",
    "\n",
    "# Assuming file has following 5 lines\n",
    "# This is 1st line\n",
    "# This is 2nd line\n",
    "# This is 3rd line\n",
    "# This is 4th line\n",
    "# This is 5th line\n",
    "\n",
    "line = fo.readline()\n",
    "print \"Read Line: %s\" % (line)\n",
    "\n",
    "# Now truncate remaining file.\n",
    "fo.truncate()\n",
    "\n",
    "# Try to read file now\n",
    "line = fo.readline()\n",
    "print \"Read Line: %s\" % (line)\n",
    "\n",
    "# Close opend file\n",
    "fo.close()"
   ]
  }
 ],
 "metadata": {
  "kernelspec": {
   "display_name": "Python 3",
   "language": "python",
   "name": "python3"
  },
  "language_info": {
   "codemirror_mode": {
    "name": "ipython",
    "version": 3
   },
   "file_extension": ".py",
   "mimetype": "text/x-python",
   "name": "python",
   "nbconvert_exporter": "python",
   "pygments_lexer": "ipython3",
   "version": "3.10.9"
  },
  "orig_nbformat": 4,
  "vscode": {
   "interpreter": {
    "hash": "e7370f93d1d0cde622a1f8e1c04877d8463912d04d973331ad4851f04de6915a"
   }
  }
 },
 "nbformat": 4,
 "nbformat_minor": 2
}
